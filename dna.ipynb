{
 "cells": [
  {
   "cell_type": "code",
   "execution_count": 42,
   "metadata": {},
   "outputs": [
    {
     "data": {
      "text/plain": [
       "'225 251 233 217'"
      ]
     },
     "execution_count": 42,
     "metadata": {},
     "output_type": "execute_result"
    }
   ],
   "source": [
    "dna_string = \"CTCCGAGGGCGTCTCGGAGAACAGAGTTTATAATAAGGGTTACGGCTCCTACCTTATCGCTAAGCGGATAAGGCCGTGTTGGACGAAGGTTCACGCTGCCTCTACGTGGATTACGTCGGTACCACATGACGCCTGAGGACAATGTATATCGTTCCCCTGCTCTGCCCTCCATTATTGGTATGAAATTCATTCTCTCAGCTGGCCTATGGGGCCCGGAACGCGGAAGTAGCGCTGCGAATTGCGCCGGCTCCGGCAGAAAGCATCAAGAGTGTGCATAGATTCACAAACCATTTACTTGGGCTTCCCGTCCACCTTTGAATCAAGACAGCACTTGCTTTCACGCTAAGCTATTTACATCCGCACGTCGTGTCATCGGTTACGGCTCACTTCAAGCCACTGTGGCGCTTAATTCCCTTCAGTTGATGTGGGCTCGCGAGCGGATAGAAGCAACCGCACGCATGCTCGAAGTACTACACGCCCAACAAATCGCGAGGAATGAATGCTCAGCGGAGGGACCACCATGTAACCTAGGGCGAGTTACGAGTAGGAGACGCCCACAGATGTGCACCCTGGGGCAGAGTGCAAAGACCCTGCCATGGCTTTGAGTTCGCTGTTCTACTAATATGGCGAATCTTTAACGCCGACAATTGTCGGCAACGGTAAGCAACCCTCTCATCCTCATTTGTAGTCAAATGTGATTACGGGTTCTGAGATACGGGCAATCACCAATGTAACATGAACCGTTCGTACAGGGTAAAAAACCGGCCGTTTTGGAGGTGCGGGGCTCATATCCCCTTTGAGCTACCCACTACGAACGGTGGAACCTAGTCAGCCCGGCCTGAGCGAGTTACGCCAAGATACTGGTTTGCGCCAATCATAAAGCCTCTCCACCATGGTTGGTCAACCGAATTACCTCCAATTGCTCG\"\n",
    "\n",
    "a = 0\n",
    "g = 0\n",
    "t = 0\n",
    "c = 0\n",
    "\n",
    "for base in dna_string:\n",
    "    if(base == \"A\"):\n",
    "        a = a + 1\n",
    "    elif(base == \"G\"):\n",
    "        g = g + 1\n",
    "    elif(base == \"T\"):\n",
    "        t = t + 1\n",
    "    else:\n",
    "        c = c + 1\n",
    "\n",
    "\"{0} {1} {2} {3}\".format(a,c,g,t)"
   ]
  },
  {
   "cell_type": "code",
   "execution_count": null,
   "metadata": {},
   "outputs": [],
   "source": []
  },
  {
   "cell_type": "code",
   "execution_count": null,
   "metadata": {},
   "outputs": [],
   "source": []
  },
  {
   "cell_type": "code",
   "execution_count": null,
   "metadata": {},
   "outputs": [],
   "source": []
  },
  {
   "cell_type": "code",
   "execution_count": null,
   "metadata": {
    "collapsed": true
   },
   "outputs": [],
   "source": []
  }
 ],
 "metadata": {
  "kernelspec": {
   "display_name": "Python 3",
   "language": "python",
   "name": "python3"
  },
  "language_info": {
   "codemirror_mode": {
    "name": "ipython",
    "version": 3
   },
   "file_extension": ".py",
   "mimetype": "text/x-python",
   "name": "python",
   "nbconvert_exporter": "python",
   "pygments_lexer": "ipython3",
   "version": "3.5.1"
  }
 },
 "nbformat": 4,
 "nbformat_minor": 2
}
