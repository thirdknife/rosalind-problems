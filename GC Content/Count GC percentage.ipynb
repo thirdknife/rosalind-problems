{
 "cells": [
  {
   "cell_type": "code",
   "execution_count": 125,
   "metadata": {},
   "outputs": [],
   "source": [
    "def readBases(filename):\n",
    "    \n",
    "    fastaData = {}\n",
    "    \n",
    "    with open(filename, 'r') as f:\n",
    "        Rosalind_ID = ''\n",
    "        for line in f:\n",
    "            if '>' in line:\n",
    "                Rosalind_ID = line[1:].rstrip()\n",
    "            elif Rosalind_ID in fastaData:\n",
    "                fastaData[Rosalind_ID]['Sequence'] = fastaData[Rosalind_ID]['Sequence'].rstrip() + line.rstrip()\n",
    "            else:\n",
    "                fastaData[Rosalind_ID] = { 'Sequence' : line.rstrip() , 'Percentage' : 0 }\n",
    "                \n",
    "\n",
    "    highest_percentage = 0\n",
    "    highest_percentage_ID = ''\n",
    "    \n",
    "    for RosalindID, Data in fastaData.items():\n",
    "        \n",
    "        length = len(Data['Sequence'])\n",
    "        gc_count = 0\n",
    "        \n",
    "        \n",
    "        for base in Data['Sequence']:\n",
    "            if base == 'G' or base == 'C':\n",
    "                gc_count = gc_count + 1\n",
    "                \n",
    "        percentage = ( gc_count / length ) * 100\n",
    "        \n",
    "        fastaData[RosalindID]['Percentage'] = percentage\n",
    "        \n",
    "        if(highest_percentage < percentage):\n",
    "            highest_percentage = percentage\n",
    "            highest_percentage_ID = RosalindID\n",
    "            \n",
    "    print(highest_percentage_ID) \n",
    "    print(highest_percentage)"
   ]
  },
  {
   "cell_type": "code",
   "execution_count": 126,
   "metadata": {},
   "outputs": [
    {
     "name": "stdout",
     "output_type": "stream",
     "text": [
      "Rosalind_2865\n",
      "52.11442786069652\n"
     ]
    }
   ],
   "source": [
    "readBases('rosalind_gc_1.txt')"
   ]
  },
  {
   "cell_type": "code",
   "execution_count": null,
   "metadata": {},
   "outputs": [],
   "source": []
  },
  {
   "cell_type": "code",
   "execution_count": null,
   "metadata": {},
   "outputs": [],
   "source": []
  },
  {
   "cell_type": "code",
   "execution_count": null,
   "metadata": {},
   "outputs": [],
   "source": []
  },
  {
   "cell_type": "code",
   "execution_count": null,
   "metadata": {},
   "outputs": [],
   "source": []
  },
  {
   "cell_type": "code",
   "execution_count": null,
   "metadata": {
    "collapsed": true
   },
   "outputs": [],
   "source": []
  }
 ],
 "metadata": {
  "kernelspec": {
   "display_name": "Python 3",
   "language": "python",
   "name": "python3"
  },
  "language_info": {
   "codemirror_mode": {
    "name": "ipython",
    "version": 3
   },
   "file_extension": ".py",
   "mimetype": "text/x-python",
   "name": "python",
   "nbconvert_exporter": "python",
   "pygments_lexer": "ipython3",
   "version": "3.5.1"
  }
 },
 "nbformat": 4,
 "nbformat_minor": 2
}
