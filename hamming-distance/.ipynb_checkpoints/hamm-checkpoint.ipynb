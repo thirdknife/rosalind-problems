{
 "cells": [
  {
   "cell_type": "code",
   "execution_count": 1,
   "metadata": {
    "collapsed": true
   },
   "outputs": [],
   "source": [
    "def readBases(filename):\n",
    "    \n",
    "    first_string = \"\" #initialize empty strings\n",
    "    second_string = \"\" #initialize empty strings\n",
    "    counter = 1 \n",
    "    \n",
    "    with open(filename, 'r') as f:\n",
    "        for line in f:\n",
    "            if counter % 2 != 0: #using for multiple lines in a file, even are for second string\n",
    "                first_string += line.rstrip()\n",
    "            else:\n",
    "                second_string += line.rstrip()\n",
    "            \n",
    "            counter += 1\n",
    "    \n",
    "    return [first_string, second_string] #return a list"
   ]
  },
  {
   "cell_type": "code",
   "execution_count": 2,
   "metadata": {
    "collapsed": true
   },
   "outputs": [],
   "source": [
    "def compareBases():\n",
    "    \n",
    "    strings = readBases('bases.bin') #got a list of strings\n",
    "    hamming_distance = 0\n",
    "    \n",
    "    if(len(strings[0]) != len(strings[1])): #if length does not match we simply return\n",
    "        return -1;\n",
    "    \n",
    "    for i in range(len(strings[0])): #this to get the range of first string so that we can access by index\n",
    "        if(strings[0][i] != strings[1][i]): #actual comparison\n",
    "            hamming_distance += 1\n",
    "    return hamming_distance\n",
    "        \n"
   ]
  },
  {
   "cell_type": "code",
   "execution_count": 3,
   "metadata": {},
   "outputs": [
    {
     "data": {
      "text/plain": [
       "7"
      ]
     },
     "execution_count": 3,
     "metadata": {},
     "output_type": "execute_result"
    }
   ],
   "source": [
    "compareBases()"
   ]
  },
  {
   "cell_type": "code",
   "execution_count": null,
   "metadata": {
    "collapsed": true
   },
   "outputs": [],
   "source": []
  }
 ],
 "metadata": {
  "kernelspec": {
   "display_name": "Python 3",
   "language": "python",
   "name": "python3"
  },
  "language_info": {
   "codemirror_mode": {
    "name": "ipython",
    "version": 3
   },
   "file_extension": ".py",
   "mimetype": "text/x-python",
   "name": "python",
   "nbconvert_exporter": "python",
   "pygments_lexer": "ipython3",
   "version": "3.5.1"
  }
 },
 "nbformat": 4,
 "nbformat_minor": 2
}
